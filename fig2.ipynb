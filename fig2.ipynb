{
 "cells": [
  {
   "cell_type": "markdown",
   "metadata": {
    "deletable": true,
    "editable": true
   },
   "source": [
    "# Figure 2"
   ]
  },
  {
   "cell_type": "code",
   "execution_count": 8,
   "metadata": {
    "collapsed": false,
    "deletable": true,
    "editable": true
   },
   "outputs": [
    {
     "name": "stdout",
     "output_type": "stream",
     "text": [
      "CHANGE IN SEMI-MAJOR AXIS: 11.856534749544778 AU\n"
     ]
    },
    {
     "data": {
      "image/png": "[encoded data removed]",
      "text/plain": [
       "<matplotlib.figure.Figure at 0x11d81f908>"
      ]
     },
     "metadata": {
      "needs_background": "light"
     },
     "output_type": "display_data"
    }
   ],
   "source": [
    "import rebound\n",
    "import reboundx\n",
    "import numpy as np\n",
    "import matplotlib.pyplot as plt\n",
    "from matplotlib.lines import Line2D\n",
    "\n",
    "#Unit Converters\n",
    "au_conv = 1.495978707e11\n",
    "msun_conv = 1.9885e30\n",
    "yr_conv = 31557600.0\n",
    "\n",
    "#Simulation begins here\n",
    "sim = rebound.Simulation()\n",
    "\n",
    "sp = sim.particles #simplifies way to access particles parameters \n",
    "\n",
    "sim.units = ('yr', 'AU', 'Msun') #changes simulation and G to units of solar masses, years, and AU  \n",
    "sim.integrator = \"whfast\" #integrator for sim\n",
    "sim.dt = .05 #timestep for sim\n",
    "\n",
    "sim.add(m=1) #adds Sun \n",
    "sim.add(a=1, f=0, Omega=0, omega=0, e=0, inc=0, m=0) #adds test particle \n",
    "\n",
    "#Moves all particles to center of momentum frame\n",
    "sim.move_to_com()\n",
    "\n",
    "#Loads REBOUNDx and Yarkovsky effect into sim    \n",
    "rebx = reboundx.Extras(sim)\n",
    "yark = rebx.load_force(\"yarkovsky_effect\")\n",
    "\n",
    "#Converts units of parameters from m/kg/sec to AU/Msun/yr\n",
    "density = (3000*au_conv*au_conv*au_conv)/msun_conv\n",
    "albedo = 0 #we assume the body absorbs all incoming radiation here\n",
    "c = (2.998e8*yr_conv)/au_conv\n",
    "lstar = (100000*3.828e26*yr_conv*yr_conv*yr_conv)/(msun_conv*au_conv*au_conv)\n",
    "radius = 1000/au_conv\n",
    "\n",
    "#Adds necessary parameters for the Simple Version of the Yarkovsky effect in REBOUNDx\n",
    "yark.params[\"lstar\"] = lstar\n",
    "yark.params[\"yark_c\"] = c\n",
    "sp[1].params[\"body_density\"] = density\n",
    "sp[1].params[\"albedo\"] = albedo\n",
    "sp[1].params[\"yark_flag\"] = 1\n",
    "sp[1].r = radius\n",
    "\n",
    "rebx.add_force(yark) #adds Yarkovsky effect to the sim\n",
    "\n",
    "tmax= 1e6 # in yrs\n",
    "\n",
    "a_start = 1 #starting semi-major axis for the asteroid\n",
    "        \n",
    "changing_a = [1] #will record the semi-major axis of the asteroid over the course of the sim\n",
    "    \n",
    "while sim.t < tmax: #determines how many years the sim lasts\n",
    "        sim.step() #moves sim forward a time step\n",
    "        sim.integrator_synchronize() #synchronizes all changes in the particles during the sim\n",
    "        changing_a.append(sp[1].a) #adds semi-major axis to list after each time step    \n",
    "\n",
    "\n",
    "a_final = sp[1].a #semi-major axis of asteroid after the sim    \n",
    "                      \n",
    "print(\"CHANGE IN SEMI-MAJOR AXIS:\", a_final-a_start, \"AU\") #prints difference between the intitial and final semi-major axes of asteroid\n",
    "\n",
    "G = 4*np.pi**2\n",
    "mass = (4/3)*np.pi*(radius**3)*density\n",
    "time = np.linspace(0, sim.t, len(changing_a))\n",
    "a_2 = [] #change in semi-major axis from the analytic equation\n",
    "\n",
    "#calculates distance data from analytic equation \n",
    "for i in time:\n",
    "    dist = ((3*(1-albedo)*radius**2*lstar*i)/(32*2*np.pi*mass*c)+a_start**(3/2))**(2/3)\n",
    "    a_2.append(dist)\n",
    "\n",
    "    \n",
    "#Plot Creation\n",
    "fig, ax1 = plt.subplots()\n",
    "\n",
    "ax1.plot(np.linspace(0, sim.t/1e6, len(changing_a)),\n",
    "         changing_a, '-', color = 'tab:blue', linewidth=3)\n",
    "ax1.plot(time/1e6, a_2, ':', color = 'tab:orange', linewidth=3)\n",
    "\n",
    "plt.grid()\n",
    "ax1.set_xlabel('Simulation Time (Myr)', fontsize='large')\n",
    "ax1.set_ylabel('Semi-major Axis (AU)', fontsize='large')\n",
    "ax1.xaxis.set_ticks(np.arange(0, 1.25, .25))\n",
    "ax1.set_yscale('log')\n",
    "\n",
    "first_legend_elements = [Line2D([0], [0], color='tab:blue', alpha=1.0, lw=1.0, label='analytic', linewidth=5,),\n",
    "                         Line2D([0], [0], color='tab:orange', alpha=1.0, lw=1.0, label='numerical', linewidth=5, linestyle=':' )]                                  \n",
    "first_legend = plt.legend(handles=first_legend_elements, framealpha = 1, fontsize='large', loc = 'upper left')\n",
    "plt.gca().add_artist(first_legend)\n",
    "\n",
    "\n",
    "plt.savefig('images/fig2.eps', bbox_inches='tight', pad_inches=0.01)\n",
    "plt.savefig('images/fig2.pdf', bbox_inches='tight', pad_inches=0.01)\n",
    "plt.savefig('images/fig2.png', bbox_inches='tight', dpi=300)\n",
    "\n",
    "plt.show()"
   ]
  },
  {
   "cell_type": "code",
   "execution_count": null,
   "metadata": {
    "collapsed": true,
    "deletable": true,
    "editable": true
   },
   "outputs": [],
   "source": []
  }
 ],
 "metadata": {
  "kernelspec": {
   "display_name": "Python 3",
   "language": "python",
   "name": "python3"
  },
  "language_info": {
   "codemirror_mode": {
    "name": "ipython",
    "version": 3
   },
   "file_extension": ".py",
   "mimetype": "text/x-python",
   "name": "python",
   "nbconvert_exporter": "python",
   "pygments_lexer": "ipython3",
   "version": "3.5.2"
  }
 },
 "nbformat": 4,
 "nbformat_minor": 2
}
